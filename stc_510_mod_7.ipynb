{
  "cells": [
    {
      "cell_type": "markdown",
      "metadata": {
        "id": "Q-rR4tguHnh9"
      },
      "source": [
        "Research Questions\n",
        "1. Do students with limited english proficiency perform at the same rate as all other students?\n",
        "2. Is there any specific subgroup that is outperforming all students?\n",
        "3. Which subgroup is underperforming all students?"
      ]
    },
    {
      "cell_type": "markdown",
      "metadata": {
        "id": "OYijzkA8WJBa"
      },
      "source": [
        "Articles\n",
        "Sotelo-Dynega, M., Ortiz, S., Flanagan, D., & Chaplin, W. (2013). English Language Proficiency and Test Performance: An Evaluation of Bilingual Students with the Woodcock-Johnson III Tests of Cognitive Abilities.. Psychology in the Schools, 50, 781-797. https://doi.org/10.1002/PITS.21706.\n",
        "This study found that there a relationship between language proficiency and performance on tests. More specifically, that these students not only required more english language development, but more cultural knowledge.\n",
        "\n",
        "Aina, J., Ogundele, A., & Olanipekun, S. (2013). Students’ Proficiency in English Language Relationship with Academic Performance in Science and Technical Education. American Journal of Educational Research, 1, 355-358. https://doi.org/10.12691/EDUCATION-1-9-2.\n",
        "This study investigated whether there is a correlation to academic performance in science and technical education and English language proficiency.\n",
        "\n",
        "Beal, C., Adams, N., & Cohen, P. (2010). Reading Proficiency and Mathematics Problem Solving by High School English Language Learners. Urban Education, 45, 58 - 74. https://doi.org/10.1177/0042085909352143.\n",
        "This study investigated the relationship between English language proficiency and performance on state math testing. It found that math scores improved with english language proficiency."
      ]
    },
    {
      "cell_type": "code",
      "execution_count": 80,
      "metadata": {
        "id": "O4ElK17XlyO4"
      },
      "outputs": [],
      "source": [
        "import numpy as np\n",
        "import matplotlib.pyplot as plt\n",
        "import pandas as pd\n",
        "import seaborn as sns\n",
        "import numpy as np\n",
        "from scipy.stats import pearsonr\n",
        "from scipy.stats import chi2_contingency\n",
        "from scipy.stats import chi2\n",
        "az_tests = pd.read_csv('AZ Tests - State.csv')"
      ]
    },
    {
      "cell_type": "code",
      "execution_count": 81,
      "metadata": {
        "id": "89nut0g0qC4d",
        "colab": {
          "base_uri": "https://localhost:8080/"
        },
        "outputId": "b6c5891f-bf3b-4b7f-a7d1-bfb3acc93165"
      },
      "outputs": [
        {
          "output_type": "stream",
          "name": "stdout",
          "text": [
            "Index(['Fiscal Year', 'District', 'Test Level', 'Subgroup', 'Subject',\n",
            "       'Number Tested', 'Percent Passing', 'Percent Proficiency Level 1',\n",
            "       'Percent Proficiency Level 2', 'Percent Proficiency Level 3',\n",
            "       'Percent Proficiency Level 4'],\n",
            "      dtype='object')\n"
          ]
        }
      ],
      "source": [
        "print(az_tests.columns)"
      ]
    },
    {
      "cell_type": "markdown",
      "metadata": {
        "id": "-qudOVeqo0jo"
      },
      "source": [
        "Subgroups not divided correctly... must split"
      ]
    },
    {
      "cell_type": "code",
      "execution_count": 82,
      "metadata": {
        "id": "xAsFUeWHw9kd"
      },
      "outputs": [],
      "source": [
        "az_tests['Subgroup'] = az_tests['Subgroup'].drop_duplicates()"
      ]
    },
    {
      "cell_type": "code",
      "execution_count": null,
      "metadata": {
        "id": "tQPSunaipGAQ"
      },
      "outputs": [],
      "source": [
        "az_tests = az_tests.explode('Subgroup')"
      ]
    },
    {
      "cell_type": "code",
      "execution_count": 58,
      "metadata": {
        "colab": {
          "base_uri": "https://localhost:8080/"
        },
        "id": "1tsOu4_txEu0",
        "outputId": "7315f90b-7b36-47ef-c042-dddc02fa2a6f"
      },
      "outputs": [
        {
          "output_type": "stream",
          "name": "stdout",
          "text": [
            "['All Students' nan 'Female' 'Male' 'Military' 'Homeless' 'Migrant'\n",
            " 'Income Eligibility 1 and 2' 'Limited English Proficient'\n",
            " 'Students with Disabilities' 'Asian' 'African American' 'Hispanic/Latino'\n",
            " 'American Indian/Alaska Native' 'Native Hawaiian/Other Pacific Islander'\n",
            " 'Two or More Races' 'White']\n"
          ]
        }
      ],
      "source": [
        "print(az_tests['Subgroup'].unique())"
      ]
    },
    {
      "cell_type": "code",
      "execution_count": 59,
      "metadata": {
        "id": "Q4Hn0nbiqpBc",
        "colab": {
          "base_uri": "https://localhost:8080/"
        },
        "outputId": "101df508-83d5-4fa0-b815-8c0c1e6cad75"
      },
      "outputs": [
        {
          "output_type": "stream",
          "name": "stdout",
          "text": [
            "<class 'pandas.core.frame.DataFrame'>\n",
            "Int64Index: 1622 entries, 0 to 1621\n",
            "Data columns (total 11 columns):\n",
            " #   Column                       Non-Null Count  Dtype \n",
            "---  ------                       --------------  ----- \n",
            " 0   Fiscal Year                  1622 non-null   int64 \n",
            " 1   District                     1622 non-null   object\n",
            " 2   Test Level                   1622 non-null   object\n",
            " 3   Subgroup                     16 non-null     object\n",
            " 4   Subject                      1622 non-null   object\n",
            " 5   Number Tested                1622 non-null   object\n",
            " 6   Percent Passing              1622 non-null   object\n",
            " 7   Percent Proficiency Level 1  1622 non-null   object\n",
            " 8   Percent Proficiency Level 2  1622 non-null   object\n",
            " 9   Percent Proficiency Level 3  1622 non-null   object\n",
            " 10  Percent Proficiency Level 4  1622 non-null   object\n",
            "dtypes: int64(1), object(10)\n",
            "memory usage: 152.1+ KB\n"
          ]
        }
      ],
      "source": [
        "az_tests.info()"
      ]
    },
    {
      "cell_type": "code",
      "execution_count": null,
      "metadata": {
        "id": "SmqGJGgLq4Sm"
      },
      "outputs": [],
      "source": [
        "az_tests['Subgroup'].hist(bins=15)\n",
        "plt.xticks(rotation=45)"
      ]
    },
    {
      "cell_type": "code",
      "source": [
        "az_tests['Percent Passing'] = pd.to_numeric(az_tests['Percent Passing'], errors='coerce')\n",
        "average_performance = az_tests.groupby('Subgroup')['Percent Passing'].mean()\n",
        "print(average_performance)"
      ],
      "metadata": {
        "colab": {
          "base_uri": "https://localhost:8080/"
        },
        "id": "Ps3pZJKO0zSg",
        "outputId": "4f8216a4-d815-4127-b4e4-70549317dd99"
      },
      "execution_count": 110,
      "outputs": [
        {
          "output_type": "stream",
          "name": "stdout",
          "text": [
            "Subgroup\n",
            "African American                          30.0\n",
            "All Students                              42.0\n",
            "American Indian/Alaska Native             20.0\n",
            "Asian                                     70.0\n",
            "Female                                    46.0\n",
            "Hispanic/Latino                           32.0\n",
            "Homeless                                  21.0\n",
            "Income Eligibility 1 and 2                30.0\n",
            "Limited English Proficient                 4.0\n",
            "Male                                      38.0\n",
            "Migrant                                   15.0\n",
            "Military                                  59.0\n",
            "Native Hawaiian/Other Pacific Islander    42.0\n",
            "Students with Disabilities                13.0\n",
            "Two or More Races                         51.0\n",
            "White                                     56.0\n",
            "Name: Percent Passing, dtype: float64\n"
          ]
        }
      ]
    },
    {
      "cell_type": "markdown",
      "source": [
        "This provides different percent passing for all subgroups... AA, American Indian, Asian, Female. etc.\n",
        "Limited English Proficient- only 4% of LEP students passing state assessments compared to 42% all students.\n",
        "\n",
        "Subgroup that is overperforming all students is Asian subgroup.\n"
      ],
      "metadata": {
        "id": "WYJ2K8E0_bJF"
      }
    },
    {
      "cell_type": "code",
      "source": [
        "filtered_data = az_tests[(az_tests['Subgroup'] == 'All Students') | (az_tests['Subgroup'] == 'Limited English Proficient')]\n",
        "filtered_data['Percent Passing'] = pd.to_numeric(filtered_data['Percent Passing'], errors='coerce')\n",
        "average_performance = filtered_data.groupby('Subgroup')['Percent Passing'].mean()\n",
        "print(average_performance)"
      ],
      "metadata": {
        "colab": {
          "base_uri": "https://localhost:8080/"
        },
        "id": "roBwU_J91Hc4",
        "outputId": "d20c2032-9ed7-4be6-fb7e-d720bd3e404f"
      },
      "execution_count": 101,
      "outputs": [
        {
          "output_type": "stream",
          "name": "stdout",
          "text": [
            "Subgroup\n",
            "All Students                  42.0\n",
            "Limited English Proficient     4.0\n",
            "Name: Percent Passing, dtype: float64\n"
          ]
        },
        {
          "output_type": "stream",
          "name": "stderr",
          "text": [
            "<ipython-input-101-911fb0af5a97>:2: SettingWithCopyWarning: \n",
            "A value is trying to be set on a copy of a slice from a DataFrame.\n",
            "Try using .loc[row_indexer,col_indexer] = value instead\n",
            "\n",
            "See the caveats in the documentation: https://pandas.pydata.org/pandas-docs/stable/user_guide/indexing.html#returning-a-view-versus-a-copy\n",
            "  filtered_data['Percent Passing'] = pd.to_numeric(filtered_data['Percent Passing'], errors='coerce')\n"
          ]
        }
      ]
    },
    {
      "cell_type": "code",
      "source": [
        "filtered_data.plot (kind='pie', y='Percent Passing', labels=filtered_data['Subgroup'], autopct='%1.1f%%')"
      ],
      "metadata": {
        "colab": {
          "base_uri": "https://localhost:8080/",
          "height": 423
        },
        "id": "XemVgqeN3qeE",
        "outputId": "6fb179b0-9ca6-4861-d103-48b4148696e1"
      },
      "execution_count": 104,
      "outputs": [
        {
          "output_type": "execute_result",
          "data": {
            "text/plain": [
              "<Axes: ylabel='Percent Passing'>"
            ]
          },
          "metadata": {},
          "execution_count": 104
        },
        {
          "output_type": "display_data",
          "data": {
            "text/plain": [
              "<Figure size 640x480 with 1 Axes>"
            ],
            "image/png": "[encoded data removed]"
          },
          "metadata": {}
        }
      ]
    },
    {
      "cell_type": "markdown",
      "source": [
        "Out of students who have passed state assessments, only 8.7% were Limited English Proficient students."
      ],
      "metadata": {
        "id": "VptBa9bE_zAU"
      }
    },
    {
      "cell_type": "markdown",
      "source": [
        "Hunches... revisiting my questions.\n",
        "Unfortunately LEP students did as expected on state assessments. I knew that they would likely be the lowest testing group, and I did not visit whether their test scores in math were any better because newer state testing requires written explanation of answers in math.\n",
        "\n",
        "I think that if there were levels of LEP I think there would be more to look into (at what point are LEP students performing at or above all other students?)\n",
        "\n",
        "I think what would be most of value to be able to do a valuable connection in terms of components would be comparing this data set, against AZELLA scores (ESL testing). Unfortunately I believe for this to make the most sense, I would need to have a more specific bank of testing of LEP students. Not even necessarily each student, but more so like:\n",
        "Student Group Pre/Emergent/Basic Limited English Proficient: Percent Passing- 1%\n",
        "\n",
        "Student Group Intermediate Limited English Proficient- Percent Passing- 3%\n",
        "\n",
        "I think realistically it doesn't make sense to put ALL limited english proficient students into the same category because then it makes it difficult to track correlation other than the most obvious (that they don't speak english). Students are still considered LEP even after they test out of ESL classes- so knowing their proficiency levels would be much more helpful.\n"
      ],
      "metadata": {
        "id": "hEdZJl6J-y6y"
      }
    }
  ],
  "metadata": {
    "colab": {
      "provenance": []
    },
    "kernelspec": {
      "display_name": "Python 3",
      "name": "python3"
    },
    "language_info": {
      "name": "python"
    }
  },
  "nbformat": 4,
  "nbformat_minor": 0
}